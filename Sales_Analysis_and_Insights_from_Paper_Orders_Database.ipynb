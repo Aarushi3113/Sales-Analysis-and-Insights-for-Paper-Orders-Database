{
  "nbformat": 4,
  "nbformat_minor": 0,
  "metadata": {
    "colab": {
      "provenance": []
    },
    "kernelspec": {
      "name": "python3",
      "display_name": "Python 3"
    },
    "language_info": {
      "name": "python"
    }
  },
  "cells": [
    {
      "cell_type": "code",
      "execution_count": 2,
      "metadata": {
        "colab": {
          "base_uri": "https://localhost:8080/"
        },
        "id": "6nGAal-gKJ4_",
        "outputId": "f511a75e-50b8-4855-95eb-7ab8d067fa27"
      },
      "outputs": [
        {
          "output_type": "stream",
          "name": "stdout",
          "text": [
            "Mounted at /content/drive\n"
          ]
        }
      ],
      "source": [
        "from google.colab import drive\n",
        "drive.mount('/content/drive')"
      ]
    },
    {
      "cell_type": "code",
      "source": [
        "import pandas as pd"
      ],
      "metadata": {
        "id": "LWwyChSMKRuT"
      },
      "execution_count": 5,
      "outputs": []
    },
    {
      "cell_type": "code",
      "source": [
        "df1 = pd.read_csv('/content/drive/MyDrive/Sales Data using SQL/accounts.csv')\n",
        "df2 = pd.read_csv('/content/drive/MyDrive/Sales Data using SQL/orders.csv')\n",
        "df3 = pd.read_csv('/content/drive/MyDrive/Sales Data using SQL/region.csv')\n",
        "df4 = pd.read_csv('/content/drive/MyDrive/Sales Data using SQL/sales_reps.csv')\n",
        "df5 = pd.read_csv('/content/drive/MyDrive/Sales Data using SQL/web_events.csv')"
      ],
      "metadata": {
        "id": "YZXTqSDHKtJh"
      },
      "execution_count": 29,
      "outputs": []
    },
    {
      "cell_type": "code",
      "source": [
        "import sqlite3"
      ],
      "metadata": {
        "id": "RXmlThxiLNDg"
      },
      "execution_count": 30,
      "outputs": []
    },
    {
      "cell_type": "code",
      "source": [
        "conn = sqlite3.connect(':memory:')\n",
        "\n",
        "# Load data into the SQLite database\n",
        "df1.to_sql('accounts', conn, index=False)\n",
        "df2.to_sql('orders', conn, index=False)\n",
        "df3.to_sql('region', conn, index=False)\n",
        "df4.to_sql('sales_reps', conn, index=False)\n",
        "df5.to_sql('web_events', conn, index=False)"
      ],
      "metadata": {
        "colab": {
          "base_uri": "https://localhost:8080/"
        },
        "id": "tFvzifsdLRIz",
        "outputId": "b9959afc-15aa-4924-a1ac-85a39d7052e6"
      },
      "execution_count": 31,
      "outputs": [
        {
          "output_type": "execute_result",
          "data": {
            "text/plain": [
              "8273"
            ]
          },
          "metadata": {},
          "execution_count": 31
        }
      ]
    },
    {
      "cell_type": "code",
      "source": [
        "def execute_query(query):\n",
        "    return pd.read_sql_query(query, conn)"
      ],
      "metadata": {
        "id": "kVUe3UnSMFBP"
      },
      "execution_count": 32,
      "outputs": []
    },
    {
      "cell_type": "markdown",
      "source": [
        "**Task 1: Mapping the Commerce of the Midwest.**\n",
        "\n",
        "\n",
        "Within the database's intricate web, a query unfolds, revealing the tapestry of the \"Midwest\" region. As the data virtuoso, we unearth the connections, with region names, sales reps, and account names forming the threads of this narrative. Through the meticulous SQL query, we bridge the gaps, forging links from region to representative to account, all within the expansive Midwest. And as the results emerge, ordered alphabetically by account name, the story of commerce in this region comes to life, showcasing the ordered harmony of business relationships in the heart of the Midwest."
      ],
      "metadata": {
        "id": "lvXt1_J3Lqqh"
      }
    },
    {
      "cell_type": "code",
      "source": [
        "query = '''\n",
        "select r.name as Region, sale.name as rep_name, acc.name as account_name\n",
        "from accounts as acc join sales_reps as sale\n",
        "on acc.sales_rep_id = sale.id\n",
        "join region as r\n",
        "on sale.region_id = r.id\n",
        "where r.name = 'Midwest'\n",
        "order by account_name;\n",
        "'''\n",
        "result = execute_query(query)"
      ],
      "metadata": {
        "id": "vozKoYPTLR4w"
      },
      "execution_count": 33,
      "outputs": []
    },
    {
      "cell_type": "code",
      "source": [
        "print(result)"
      ],
      "metadata": {
        "colab": {
          "base_uri": "https://localhost:8080/"
        },
        "id": "xvVWaem5LR7k",
        "outputId": "0c906f35-83fe-4825-ff95-1a49ebb79ef6"
      },
      "execution_count": 34,
      "outputs": [
        {
          "output_type": "stream",
          "name": "stdout",
          "text": [
            "     Region               rep_name                       account_name\n",
            "0   Midwest            Julie Starr                             AbbVie\n",
            "1   Midwest            Chau Rowles                Abbott Laboratories\n",
            "2   Midwest           Cliff Meints                              Aflac\n",
            "3   Midwest            Chau Rowles                              Alcoa\n",
            "4   Midwest        Charles Bidwell                       Altria Group\n",
            "5   Midwest           Delilah Krum                              Amgen\n",
            "6   Midwest        Charles Bidwell                  Arrow Electronics\n",
            "7   Midwest           Delilah Krum                         AutoNation\n",
            "8   Midwest           Delilah Krum              Capital One Financial\n",
            "9   Midwest         Cordell Rieder                            Centene\n",
            "10  Midwest  Sherlene Wetherington           Community Health Systems\n",
            "11  Midwest           Delilah Krum                            Cummins\n",
            "12  Midwest      Carletta Kosinski                            Danaher\n",
            "13  Midwest      Carletta Kosinski                     Dollar General\n",
            "14  Midwest         Cordell Rieder                        Duke Energy\n",
            "15  Midwest       Kathleen Lalonde                                EMC\n",
            "16  Midwest           Cliff Meints                          Eli Lilly\n",
            "17  Midwest        Charles Bidwell                   Emerson Electric\n",
            "18  Midwest            Chau Rowles                        Halliburton\n",
            "19  Midwest           Delilah Krum  Hartford Financial Services Group\n",
            "20  Midwest      Carletta Kosinski                International Paper\n",
            "21  Midwest           Delilah Krum                     Kimberly-Clark\n",
            "22  Midwest         Cordell Rieder                             Kohl's\n",
            "23  Midwest       Kathleen Lalonde                        Kraft Heinz\n",
            "24  Midwest            Julie Starr                               Lear\n",
            "25  Midwest            Julie Starr                      ManpowerGroup\n",
            "26  Midwest      Carletta Kosinski                         McDonald's\n",
            "27  Midwest      Carletta Kosinski                   Northrop Grumman\n",
            "28  Midwest           Cliff Meints                             Paccar\n",
            "29  Midwest       Kathleen Lalonde            Penske Automotive Group\n",
            "30  Midwest           Delilah Krum                 Plains GP Holdings\n",
            "31  Midwest  Sherlene Wetherington                        Progressive\n",
            "32  Midwest        Charles Bidwell                           Qualcomm\n",
            "33  Midwest           Cliff Meints                           Raytheon\n",
            "34  Midwest  Sherlene Wetherington                           Rite Aid\n",
            "35  Midwest           Cliff Meints                     Sears Holdings\n",
            "36  Midwest           Delilah Krum                 Southwest Airlines\n",
            "37  Midwest            Chau Rowles                            Staples\n",
            "38  Midwest        Charles Bidwell                          Starbucks\n",
            "39  Midwest            Chau Rowles                          Tech Data\n",
            "40  Midwest        Charles Bidwell                   Tenet Healthcare\n",
            "41  Midwest  Sherlene Wetherington                  Time Warner Cable\n",
            "42  Midwest  Sherlene Wetherington                       U.S. Bancorp\n",
            "43  Midwest       Kathleen Lalonde                   US Foods Holding\n",
            "44  Midwest            Julie Starr                               USAA\n",
            "45  Midwest           Cliff Meints                      Union Pacific\n",
            "46  Midwest        Charles Bidwell                          Whirlpool\n",
            "47  Midwest           Cliff Meints                              Xerox\n"
          ]
        }
      ]
    },
    {
      "cell_type": "markdown",
      "source": [
        "**Task 2: Sifting for Gold in the Midwest.**\n",
        "\n",
        "In the world of Midwest commerce, a query has uncovered a unique facet. By isolating sales representatives with names starting with 'S,' we've unveiled a distinct narrative. The results, elegantly ordered by account name, shed light on the intricate relationships forged by this 'S' factor. It's a story of selective synergy, offering insights into how these representatives connect with various accounts. In the heartland of the Midwest, the data virtuoso has unveiled a fascinating story where a single letter becomes a key to understanding the complex tapestry of sales."
      ],
      "metadata": {
        "id": "kKJfqFiBM-sG"
      }
    },
    {
      "cell_type": "code",
      "source": [
        "query = '''\n",
        "select r.name as Region, sale.name as rep_name, acc.name as account_name\n",
        "from accounts as acc join sales_reps as sale\n",
        "on acc.sales_rep_id = sale.id\n",
        "join region as r\n",
        "on sale.region_id = r.id\n",
        "where r.name = 'Midwest' and sale.name LIKE 'S%'\n",
        "order by account_name;\n",
        "'''\n",
        "result = execute_query(query)\n",
        "print(result)"
      ],
      "metadata": {
        "colab": {
          "base_uri": "https://localhost:8080/"
        },
        "id": "st--XKmGLR9I",
        "outputId": "3b94eda5-bcd0-4bdd-f488-814b91c2c9eb"
      },
      "execution_count": 35,
      "outputs": [
        {
          "output_type": "stream",
          "name": "stdout",
          "text": [
            "    Region               rep_name              account_name\n",
            "0  Midwest  Sherlene Wetherington  Community Health Systems\n",
            "1  Midwest  Sherlene Wetherington               Progressive\n",
            "2  Midwest  Sherlene Wetherington                  Rite Aid\n",
            "3  Midwest  Sherlene Wetherington         Time Warner Cable\n",
            "4  Midwest  Sherlene Wetherington              U.S. Bancorp\n"
          ]
        }
      ]
    },
    {
      "cell_type": "markdown",
      "source": [
        "**Task 3: Kaleidoscope of Sales.**\n",
        "\n",
        "In the vast data landscape of Midwest commerce, a unique perspective unfolds. This SQL query spotlights sales representatives with 'K' in their names, revealing the intricate ties between regions, reps, and accounts. The results, thoughtfully sorted by account name, unveil the influence of the 'K' factor. It's a tale of selective synergy, providing insights into the special connections these representatives have with a diverse range of accounts. This Midwest journey, driven by a single letter, offers a captivating snapshot of the complex web of business relationships that define the region."
      ],
      "metadata": {
        "id": "hEprwMKtNW-S"
      }
    },
    {
      "cell_type": "code",
      "source": [
        "query = '''\n",
        "select r.name as Region, sale.name as rep_name, acc.name as account_name\n",
        "from accounts as acc join sales_reps as sale\n",
        "on acc.sales_rep_id = sale.id\n",
        "join region as r\n",
        "on sale.region_id = r.id\n",
        "where r.name = 'Midwest' and sale.name LIKE '%K%'\n",
        "order by account_name;\n",
        "'''\n",
        "result = execute_query(query)\n",
        "print(result)"
      ],
      "metadata": {
        "colab": {
          "base_uri": "https://localhost:8080/"
        },
        "id": "3PLRZQh4LR_x",
        "outputId": "e705936d-1e4e-4104-b175-93916a2f954b"
      },
      "execution_count": 36,
      "outputs": [
        {
          "output_type": "stream",
          "name": "stdout",
          "text": [
            "     Region           rep_name                       account_name\n",
            "0   Midwest       Delilah Krum                              Amgen\n",
            "1   Midwest       Delilah Krum                         AutoNation\n",
            "2   Midwest       Delilah Krum              Capital One Financial\n",
            "3   Midwest       Delilah Krum                            Cummins\n",
            "4   Midwest  Carletta Kosinski                            Danaher\n",
            "5   Midwest  Carletta Kosinski                     Dollar General\n",
            "6   Midwest   Kathleen Lalonde                                EMC\n",
            "7   Midwest       Delilah Krum  Hartford Financial Services Group\n",
            "8   Midwest  Carletta Kosinski                International Paper\n",
            "9   Midwest       Delilah Krum                     Kimberly-Clark\n",
            "10  Midwest   Kathleen Lalonde                        Kraft Heinz\n",
            "11  Midwest  Carletta Kosinski                         McDonald's\n",
            "12  Midwest  Carletta Kosinski                   Northrop Grumman\n",
            "13  Midwest   Kathleen Lalonde            Penske Automotive Group\n",
            "14  Midwest       Delilah Krum                 Plains GP Holdings\n",
            "15  Midwest       Delilah Krum                 Southwest Airlines\n",
            "16  Midwest   Kathleen Lalonde                   US Foods Holding\n"
          ]
        }
      ]
    },
    {
      "cell_type": "markdown",
      "source": [
        "**Task 4: Uncovering Value in Sales.**\n",
        "\n",
        "Within the intricate sales data tapestry, an intriguing narrative unfolds. The SQL query dissects the connections between regions, accounts, and orders, focusing on those with a standard quantity exceeding 100. The query's results reveal the unit price calculated from the total amount and quantity, offering insights into the worth of each unit within these sales transactions. It's a story of value in commerce, underscoring the significance of each unit's pricing dynamics, inspiring businesses to embrace a deeper understanding of the true worth of their sales units."
      ],
      "metadata": {
        "id": "Q6rxZL8UNvTd"
      }
    },
    {
      "cell_type": "code",
      "source": [
        "query = '''\n",
        "select r.name as Region, acc.name as account_name, o.total_amt_usd / (o.total+ 0.01) as unit_price\n",
        "from accounts as acc join sales_reps as sale\n",
        "on acc.sales_rep_id = sale.id\n",
        "join region as r\n",
        "on sale.region_id = r.id\n",
        "join orders as o\n",
        "on acc.id = o.account_id\n",
        "where o.standard_qty > 100\n",
        "limit 50;\n",
        "'''\n",
        "result = execute_query(query)\n",
        "print(result)"
      ],
      "metadata": {
        "colab": {
          "base_uri": "https://localhost:8080/"
        },
        "id": "5ywmgp66LSCZ",
        "outputId": "de9a4e06-8e56-436a-c8ca-b000802b4b39"
      },
      "execution_count": 37,
      "outputs": [
        {
          "output_type": "stream",
          "name": "stdout",
          "text": [
            "       Region        account_name  unit_price\n",
            "0   Northeast             Walmart    5.759600\n",
            "1   Northeast             Walmart    5.965175\n",
            "2   Northeast             Walmart    5.444236\n",
            "3   Northeast             Walmart    5.960184\n",
            "4   Northeast             Walmart    6.168719\n",
            "5   Northeast             Walmart    6.628910\n",
            "6   Northeast             Walmart    5.646522\n",
            "7   Northeast             Walmart    6.033417\n",
            "8   Northeast             Walmart    6.019492\n",
            "9   Northeast             Walmart    6.109804\n",
            "10  Northeast             Walmart    6.391138\n",
            "11  Northeast         Exxon Mobil    5.054602\n",
            "12  Northeast               Apple    5.096584\n",
            "13  Northeast               Apple    5.263203\n",
            "14  Northeast               Apple    5.120315\n",
            "15  Northeast               Apple    5.176939\n",
            "16  Northeast               Apple    5.064018\n",
            "17  Northeast               Apple    5.093753\n",
            "18  Northeast  Berkshire Hathaway    5.483687\n",
            "19  Northeast            McKesson    5.713830\n",
            "20  Northeast            McKesson    5.157017\n",
            "21  Northeast            McKesson    5.700722\n",
            "22  Northeast  UnitedHealth Group    5.346446\n",
            "23  Northeast  UnitedHealth Group    5.203317\n",
            "24  Northeast  UnitedHealth Group    4.996325\n",
            "25  Northeast  UnitedHealth Group    5.388178\n",
            "26  Northeast  UnitedHealth Group    5.078483\n",
            "27  Northeast  UnitedHealth Group    5.001227\n",
            "28  Northeast          CVS Health    5.543245\n",
            "29  Northeast          CVS Health    5.215494\n",
            "30  Northeast          CVS Health    5.327233\n",
            "31  Northeast      General Motors    5.150514\n",
            "32  Northeast          Ford Motor    5.601537\n",
            "33  Northeast          Ford Motor    5.224125\n",
            "34  Northeast          Ford Motor    5.318459\n",
            "35  Northeast          Ford Motor    5.407441\n",
            "36  Northeast          Ford Motor    5.720084\n",
            "37  Northeast          Ford Motor    5.511822\n",
            "38  Northeast          Ford Motor    5.257023\n",
            "39  Northeast          Ford Motor    5.391009\n",
            "40  Northeast          Ford Motor    5.376737\n",
            "41  Northeast          Ford Motor    5.274691\n",
            "42  Northeast          Ford Motor    6.283316\n",
            "43  Northeast          Ford Motor    5.400304\n",
            "44  Northeast          Ford Motor    5.567637\n",
            "45  Northeast          Ford Motor    5.196454\n",
            "46  Northeast          Ford Motor    5.723279\n",
            "47  Northeast          Ford Motor    5.332718\n",
            "48  Northeast          Ford Motor    5.508440\n",
            "49  Northeast          Ford Motor    5.468120\n"
          ]
        }
      ]
    },
    {
      "cell_type": "markdown",
      "source": [
        "**Task 5: The Art of Pricing.**\n",
        "\n",
        "Within the expansive sales data landscape, a captivating narrative emerges. This SQL query intricately connects regions, accounts, and orders, with a specific focus on those with a standard quantity exceeding 100 and poster quantities surpassing 50. The results unveil a vital aspect: the unit price, diligently calculated and thoughtfully ordered in ascending fashion.\n",
        "\n",
        "This is a tale of pricing precision, shining a spotlight on the value of each unit within these complex transactions. It serves as a guide for businesses, helping them comprehend the intricate interplay between value and pricing complexity in the dynamic world of commerce. In this exploration, the data virtuoso plays a pivotal role, unearthing the insights that can shape prosperous decisions for businesses seeking to navigate the value-laden landscape of their sales."
      ],
      "metadata": {
        "id": "cTwBcB9TOIvc"
      }
    },
    {
      "cell_type": "code",
      "source": [
        "query = '''\n",
        "select r.name as Region, acc.name as account_name, o.total_amt_usd / (o.total+ 0.01) as unit_price\n",
        "from accounts as acc join sales_reps as sale\n",
        "on acc.sales_rep_id = sale.id\n",
        "join region as r\n",
        "on sale.region_id = r.id\n",
        "join orders as o\n",
        "on acc.id = o.account_id\n",
        "where o.standard_qty > 100 and poster_qty>50\n",
        "order by unit_price\n",
        "limit 50;\n",
        "'''\n",
        "result = execute_query(query)\n",
        "print(result)"
      ],
      "metadata": {
        "colab": {
          "base_uri": "https://localhost:8080/"
        },
        "id": "vkGxg2ksLSEx",
        "outputId": "635bd5d6-c413-4bad-83c8-fc6cc573dc65"
      },
      "execution_count": 38,
      "outputs": [
        {
          "output_type": "stream",
          "name": "stdout",
          "text": [
            "       Region                      account_name  unit_price\n",
            "0        West            Stanley Black & Decker    5.266396\n",
            "1   Northeast                         Citigroup    5.273081\n",
            "2   Southeast                         BlackRock    5.278270\n",
            "3   Southeast                             Nucor    5.289094\n",
            "4   Northeast                             Merck    5.296391\n",
            "5     Midwest                    Sears Holdings    5.300912\n",
            "6   Southeast                         BlackRock    5.301770\n",
            "7   Northeast                        Fannie Mae    5.303465\n",
            "8     Midwest                             Aflac    5.305558\n",
            "9   Northeast               Northwestern Mutual    5.307969\n",
            "10  Northeast                              TIAA    5.310935\n",
            "11  Northeast                     Cisco Systems    5.318950\n",
            "12  Northeast                             FedEx    5.326170\n",
            "13       West                 Core-Mark Holding    5.328663\n",
            "14    Midwest                    Dollar General    5.333630\n",
            "15       West  Thrivent Financial for Lutherans    5.337679\n",
            "16  Northeast       Philip Morris International    5.339153\n",
            "17  Northeast       Philip Morris International    5.340240\n",
            "18  Southeast                      Land O'Lakes    5.340489\n",
            "19       West                 Core-Mark Holding    5.343204\n",
            "20  Southeast                         Supervalu    5.347728\n",
            "21  Southeast                               ADP    5.348600\n",
            "22       West                 Reynolds American    5.348768\n",
            "23    Midwest                        AutoNation    5.351093\n",
            "24       West                              eBay    5.355893\n",
            "25  Southeast                            Ecolab    5.357762\n",
            "26  Northeast                         Citigroup    5.358370\n",
            "27  Northeast                             FedEx    5.358938\n",
            "28       West            Charter Communications    5.361681\n",
            "29       West             R.R. Donnelley & Sons    5.361952\n",
            "30       West            Charter Communications    5.364147\n",
            "31  Northeast                     Cisco Systems    5.366839\n",
            "32  Southeast            Performance Food Group    5.370258\n",
            "33       West                        Unum Group    5.371478\n",
            "34  Southeast                        Health Net    5.377892\n",
            "35  Southeast                         BlackRock    5.382070\n",
            "36  Southeast          Thermo Fisher Scientific    5.387129\n",
            "37  Southeast                             Nucor    5.388062\n",
            "38  Southeast                           Kellogg    5.388562\n",
            "39  Southeast                          Monsanto    5.392332\n",
            "40  Northeast                             Merck    5.398362\n",
            "41  Southeast                               ADP    5.405471\n",
            "42  Southeast                               ADP    5.406828\n",
            "43       West  Thrivent Financial for Lutherans    5.408913\n",
            "44  Northeast                            Lowe's    5.410306\n",
            "45    Midwest                        AutoNation    5.414751\n",
            "46       West                 Core-Mark Holding    5.414891\n",
            "47  Northeast                 J.P. Morgan Chase    5.415237\n",
            "48  Northeast                         Coca-Cola    5.423158\n",
            "49  Southeast           American Electric Power    5.430177\n"
          ]
        }
      ]
    },
    {
      "cell_type": "markdown",
      "source": [
        "**Task 6: Cracking the Sales Code.**\n",
        "\n",
        "In the world of sales analysis, this query is a compass guiding us toward hidden treasures. By isolating orders with specific quantity criteria, we unearth valuable insights into pricing dynamics. The descending order of unit prices exposes products and accounts with the highest worth. This knowledge empowers businesses to optimize pricing strategies and enhance profitability. In a data-rich landscape, such queries are the key to deciphering the complex maze of commerce, shaping the path for smarter decisions in sales."
      ],
      "metadata": {
        "id": "T3WXZDGFO0h8"
      }
    },
    {
      "cell_type": "code",
      "source": [
        "query = '''\n",
        "select r.name as Region, acc.name as account_name, o.total_amt_usd / (o.total+ 0.01) as unit_price\n",
        "from accounts as acc join sales_reps as sale\n",
        "on acc.sales_rep_id = sale.id\n",
        "join region as r\n",
        "on sale.region_id = r.id\n",
        "join orders as o\n",
        "on acc.id = o.account_id\n",
        "where o.standard_qty > 100 and poster_qty > 50\n",
        "order by unit_price desc\n",
        "limit 50;\n",
        "'''\n",
        "\n",
        "result = execute_query(query)\n",
        "print(result)"
      ],
      "metadata": {
        "colab": {
          "base_uri": "https://localhost:8080/"
        },
        "id": "cML3C_ltLSHK",
        "outputId": "0ac15052-e3eb-4e27-b5a8-7a7701776f26"
      },
      "execution_count": 39,
      "outputs": [
        {
          "output_type": "stream",
          "name": "stdout",
          "text": [
            "       Region                    account_name  unit_price\n",
            "0   Northeast                             IBM    8.089906\n",
            "1        West                          Mosaic    8.066329\n",
            "2        West                    Pacific Life    8.063023\n",
            "3   Northeast                             CHS    8.018849\n",
            "4        West     Fidelity National Financial    7.992802\n",
            "5     Midwest                          Paccar    7.986962\n",
            "6   Southeast    PNC Financial Services Group    7.895139\n",
            "7   Northeast                          Costco    7.789352\n",
            "8     Midwest                           Amgen    7.753831\n",
            "9   Southeast                         Aramark    7.635793\n",
            "10  Northeast          Mondelez International    7.592776\n",
            "11  Southeast                             CSX    7.560279\n",
            "12  Southeast            Edison International    7.530563\n",
            "13    Midwest                           Aflac    7.459659\n",
            "14  Southeast            Bristol-Myers Squibb    7.401323\n",
            "15    Midwest               Time Warner Cable    7.394556\n",
            "16  Northeast                             TJX    7.392951\n",
            "17  Northeast                General Dynamics    7.331228\n",
            "18  Southeast                             CBS    7.316410\n",
            "19  Southeast  Cognizant Technology Solutions    7.298833\n",
            "20  Southeast      DaVita HealthCare Partners    7.295310\n",
            "21  Northeast                          Boeing    7.270149\n",
            "22       West                      BB&T Corp.    7.259396\n",
            "23  Northeast         Honeywell International    7.235316\n",
            "24       West                            eBay    7.180694\n",
            "25       West          Charter Communications    7.175698\n",
            "26    Midwest               Arrow Electronics    7.172409\n",
            "27       West                   EOG Resources    7.078284\n",
            "28    Midwest                            USAA    7.069544\n",
            "29       West                        Huntsman    7.063634\n",
            "30  Northeast        Twenty-First Century Fox    6.999505\n",
            "31  Southeast                      PBF Energy    6.949265\n",
            "32    Midwest                      AutoNation    6.946824\n",
            "33  Southeast          National Oilwell Varco    6.922538\n",
            "34  Southeast            Occidental Petroleum    6.895003\n",
            "35  Northeast         American Airlines Group    6.880289\n",
            "36       West                      CST Brands    6.854420\n",
            "37       West           R.R. Donnelley & Sons    6.825782\n",
            "38    Midwest                        Raytheon    6.780342\n",
            "39    Midwest                        Qualcomm    6.773283\n",
            "40  Southeast                             ADP    6.772607\n",
            "41  Southeast                          CarMax    6.741833\n",
            "42  Northeast                     Caterpillar    6.740127\n",
            "43  Southeast                             ADP    6.687843\n",
            "44  Northeast                           Aetna    6.670767\n",
            "45       West                        WestRock    6.663090\n",
            "46    Midwest                             EMC    6.658006\n",
            "47  Northeast                       Citigroup    6.646222\n",
            "48  Northeast                General Dynamics    6.630860\n",
            "49  Northeast                         Walmart    6.628910\n"
          ]
        }
      ]
    },
    {
      "cell_type": "markdown",
      "source": [
        "**Task 7: Efficiency through Precision.**\n",
        "\n",
        "In the world of data analysis, concise queries like this serve a vital role. With a specific focus on orders surpassing defined quantities, this query uncovers the essence of sales - the unit price. Ordering it in descending fashion highlights the most valuable products and accounts, streamlining pricing strategies and profitability.\n",
        "\n",
        "The query's brevity is intentional, as it succinctly delivers precise, actionable insights. It allows businesses to efficiently navigate the intricate landscape of sales, saving time and resources. In a fast-paced environment, such succinct queries offer the tools needed for informed decision-making, unlocking the potential of sales data with minimal complexity."
      ],
      "metadata": {
        "id": "xrx_7R_IPJNZ"
      }
    },
    {
      "cell_type": "code",
      "source": [
        "query = '''\n",
        "select r.name as Region, acc.name as account_name, o.total_amt_usd / (o.total+ 0.01) as unit_price\n",
        "from accounts as acc join sales_reps as sale\n",
        "on acc.sales_rep_id = sale.id\n",
        "join region as r\n",
        "on sale.region_id = r.id\n",
        "join orders as o\n",
        "on acc.id = o.account_id\n",
        "where o.standard_qty > 50 and poster_qty > 25\n",
        "order by unit_price desc\n",
        "limit 50;\n",
        "'''\n",
        "\n",
        "result = execute_query(query)\n",
        "print(result)"
      ],
      "metadata": {
        "colab": {
          "base_uri": "https://localhost:8080/"
        },
        "id": "VF1Q5ISWLSJY",
        "outputId": "f742b0d1-9d04-421f-9383-7447aa415259"
      },
      "execution_count": 40,
      "outputs": [
        {
          "output_type": "stream",
          "name": "stdout",
          "text": [
            "       Region                    account_name  unit_price\n",
            "0   Northeast                             IBM    8.089906\n",
            "1        West                          Mosaic    8.066329\n",
            "2        West                    Pacific Life    8.063023\n",
            "3   Northeast                             CHS    8.018849\n",
            "4        West     Fidelity National Financial    7.992802\n",
            "5     Midwest                          Paccar    7.986962\n",
            "6   Southeast    PNC Financial Services Group    7.895139\n",
            "7   Northeast                          Costco    7.789352\n",
            "8     Midwest                           Amgen    7.753831\n",
            "9   Southeast                         Aramark    7.635793\n",
            "10  Northeast          Mondelez International    7.592776\n",
            "11  Southeast                             CSX    7.560279\n",
            "12  Southeast            Edison International    7.530563\n",
            "13    Midwest                           Aflac    7.459659\n",
            "14  Southeast            Bristol-Myers Squibb    7.401323\n",
            "15    Midwest               Time Warner Cable    7.394556\n",
            "16  Northeast                             TJX    7.392951\n",
            "17  Northeast                          Disney    7.381408\n",
            "18       West                  Crown Holdings    7.354299\n",
            "19  Northeast                General Dynamics    7.331228\n",
            "20  Northeast                     Caterpillar    7.321467\n",
            "21  Southeast                             CBS    7.316410\n",
            "22  Southeast  Cognizant Technology Solutions    7.298833\n",
            "23  Southeast      DaVita HealthCare Partners    7.295310\n",
            "24  Northeast                          Boeing    7.270149\n",
            "25       West                      BB&T Corp.    7.259396\n",
            "26  Northeast         Honeywell International    7.235316\n",
            "27       West                            eBay    7.180694\n",
            "28       West          Charter Communications    7.175698\n",
            "29    Midwest               Arrow Electronics    7.172409\n",
            "30  Northeast                          Oracle    7.130414\n",
            "31       West                   EOG Resources    7.078284\n",
            "32    Midwest                            USAA    7.069544\n",
            "33       West                        Huntsman    7.063634\n",
            "34  Northeast                         Walmart    7.003857\n",
            "35  Northeast        Twenty-First Century Fox    6.999505\n",
            "36  Southeast                      PBF Energy    6.949265\n",
            "37    Midwest                      AutoNation    6.946824\n",
            "38  Southeast          National Oilwell Varco    6.922538\n",
            "39  Southeast                      PG&E Corp.    6.912882\n",
            "40  Southeast            Occidental Petroleum    6.895003\n",
            "41  Northeast         American Airlines Group    6.880289\n",
            "42       West                      CST Brands    6.854420\n",
            "43  Northeast                    Ingram Micro    6.843097\n",
            "44  Northeast                     Time Warner    6.833305\n",
            "45       West           R.R. Donnelley & Sons    6.825782\n",
            "46  Northeast                          Pfizer    6.821645\n",
            "47  Southeast            Bristol-Myers Squibb    6.820476\n",
            "48  Northeast                         Walmart    6.780654\n",
            "49    Midwest                        Raytheon    6.780342\n"
          ]
        }
      ]
    },
    {
      "cell_type": "markdown",
      "source": [
        "**Task 8: Efficiency in Action.**\n",
        "\n",
        "By summarizing key sales figures for each account, this query provides a quick, actionable overview of business performance. Its brevity is designed to streamline data analysis, allowing decision-makers to efficiently uncover insights without unnecessary complexity.\n",
        "\n",
        "In the fast-paced business environment, time is of the essence, and succinct queries enable rapid decision-making. By focusing on essentials, they help businesses access valuable information in a way that's both time-efficient and results-oriented. This query, with its precision and brevity, exemplifies the power of efficient data analysis, shaping success and driving informed decisions."
      ],
      "metadata": {
        "id": "AdTErx7tPqa3"
      }
    },
    {
      "cell_type": "code",
      "source": [
        "query = '''\n",
        "select accounts.name, avg(standard_amt_usd) as Avg_std_amt, avg(gloss_amt_usd) as Avg_gloss_amt, avg(poster_amt_usd) as Avg_poster_amt\n",
        "from orders join accounts on orders.account_id = accounts.id\n",
        "group by accounts.name\n",
        "limit 50;\n",
        "'''\n",
        "\n",
        "result = execute_query(query)\n",
        "print(result)"
      ],
      "metadata": {
        "colab": {
          "base_uri": "https://localhost:8080/"
        },
        "id": "t5L2O5FfPOpv",
        "outputId": "7ab420d4-9464-4bbb-eea9-8b4c648b264d"
      },
      "execution_count": 41,
      "outputs": [
        {
          "output_type": "stream",
          "name": "stdout",
          "text": [
            "                             name  Avg_std_amt  Avg_gloss_amt  Avg_poster_amt\n",
            "0                              3M   841.438750     225.168125      268.467500\n",
            "1                             ADP  2428.160263     130.680789      442.540000\n",
            "2                           AECOM  2305.380000      88.810000      126.440000\n",
            "3                             AES  1734.025000    1554.175000       12.180000\n",
            "4                             AIG   523.950000     232.190000      146.160000\n",
            "5                            AT&T   758.301786     106.197500      136.880000\n",
            "6                          AbbVie   503.990000     108.605000      223.300000\n",
            "7             Abbott Laboratories   489.269500     244.174000      217.210000\n",
            "8              Advance Auto Parts  1367.260000     147.927500      225.330000\n",
            "9                           Aetna  1567.011212     260.334242      304.376970\n",
            "10                          Aflac  2556.223462     194.163846      745.166154\n",
            "11       Air Products & Chemicals   545.573333     132.323333      249.013333\n",
            "12                          Alcoa  2126.987500      48.685000      149.205000\n",
            "13                       Allstate  1463.733333     242.676000      145.618667\n",
            "14                 Ally Financial   460.327500      76.772500      300.440000\n",
            "15                       Alphabet   670.656000     166.278000      183.512000\n",
            "16                   Altria Group  2479.262308     112.157949      176.349744\n",
            "17                     Amazon.com  1443.108000     175.266000      315.056000\n",
            "18        American Airlines Group  2525.563750      38.386250      889.140000\n",
            "19        American Electric Power  2492.006000      62.916000      136.416000\n",
            "20               American Express  2473.257857     222.560000       70.180000\n",
            "21           Ameriprise Financial  2618.869412     121.161765      222.105882\n",
            "22              AmerisourceBergen  1621.750000     441.910000       93.380000\n",
            "23                          Amgen   361.775000     214.713333      773.430000\n",
            "24             Anadarko Petroleum  1278.320588     227.343529      156.668235\n",
            "25                         Anthem  2699.946429      85.600000       62.060000\n",
            "26                          Apple  2568.186667     133.571667       92.026667\n",
            "27              Applied Materials   538.920000      89.880000       81.200000\n",
            "28                        Aramark   775.945000     651.630000     1255.893333\n",
            "29         Archer Daniels Midland  1467.716579     397.167105      282.276842\n",
            "30              Arrow Electronics  1509.081053     247.958421      371.169474\n",
            "31                       Assurant   583.830000     164.780000      487.200000\n",
            "32                     AutoNation  2486.233784     153.241351      430.579459\n",
            "33                       AutoZone  1525.276667     320.405556      158.791111\n",
            "34                        Autoliv  1559.375000     239.680000      186.760000\n",
            "35                          Avnet   426.021250     205.038750      254.765000\n",
            "36                     BB&T Corp.  2951.228571     255.730000      653.660000\n",
            "37                   Baker Hughes   566.365000     264.022500      203.000000\n",
            "38          Bank of America Corp.   563.870000     263.148667      229.525333\n",
            "39  Bank of New York Mellon Corp.  1846.300000     179.760000      129.920000\n",
            "40           Baxter International  2519.950000      73.830000      423.400000\n",
            "41               Becton Dickinson  1393.873333     167.276667      235.480000\n",
            "42              Bed Bath & Beyond   394.210000     561.750000      113.680000\n",
            "43             Berkshire Hathaway  5728.520000       0.000000     1745.800000\n",
            "44                       Best Buy   688.032941     142.750588      117.501176\n",
            "45                         Biogen  1420.486667     192.243333      162.400000\n",
            "46                      BlackRock  2916.463077     144.230513      139.705641\n",
            "47                         Boeing  2598.293000      69.657000     1232.616000\n",
            "48           Bristol-Myers Squibb   509.978000     292.409600      322.526400\n",
            "49        C.H. Robinson Worldwide  1516.960000     104.860000        8.120000\n"
          ]
        }
      ]
    },
    {
      "cell_type": "markdown",
      "source": [
        "**Task 9: Streamlining Insights.**\n",
        "\n",
        "By calculating and summarizing average sales amounts for various product types and generating a total, this query provides a swift, yet comprehensive view of account performance. Its brevity is intentional, designed to streamline data analysis while offering quick access to actionable insights.\n",
        "\n",
        "In a rapidly evolving business landscape, time efficiency is paramount. Such succinct queries empower decision-makers to swiftly access valuable information and make informed choices without delving into complexity. This query, with its precision and efficiency, exemplifies the power of streamlined data analysis, shaping success and driving effective decisions in a fast-paced environment."
      ],
      "metadata": {
        "id": "007EOOT9QTKJ"
      }
    },
    {
      "cell_type": "code",
      "source": [
        "query = '''\n",
        "select accounts.name, avg(standard_amt_usd) as Avg_std_amt , avg(gloss_amt_usd) as Avg_gloss_amt, avg(poster_amt_usd) as Avg_poster_amt,\n",
        "avg(standard_amt_usd)+ avg(gloss_amt_usd)+ avg(poster_amt_usd) as total_spending\n",
        "from orders join accounts on orders.account_id = accounts.id\n",
        "group by accounts.name\n",
        "order by total_spending desc\n",
        "limit 50;\n",
        "'''\n",
        "\n",
        "result = execute_query(query)\n",
        "print(result)\n"
      ],
      "metadata": {
        "colab": {
          "base_uri": "https://localhost:8080/"
        },
        "id": "-yctTr4vPOsV",
        "outputId": "a84de657-bce8-46b9-88d3-5e4041376e8e"
      },
      "execution_count": 42,
      "outputs": [
        {
          "output_type": "stream",
          "name": "stdout",
          "text": [
            "                            name  Avg_std_amt  Avg_gloss_amt  Avg_poster_amt  \\\n",
            "0                   Pacific Life  2702.708750     147.927500    28732.620000   \n",
            "1    Fidelity National Financial  2299.677143      28.890000    13221.680000   \n",
            "2                            CBS  1482.030000     239.680000     6926.360000   \n",
            "3             Berkshire Hathaway  5728.520000       0.000000     1745.800000   \n",
            "4           Edison International  1636.720000      29.960000     5651.520000   \n",
            "5                         Costco   823.350000    1956.762500     4461.940000   \n",
            "6                            CHS  1387.576429     323.140000     5525.080000   \n",
            "7         Mondelez International  2423.476667     161.035000     3323.786667   \n",
            "8              Core-Mark Holding  5424.261316      83.966842      119.449474   \n",
            "9                       Huntsman  2501.653333     699.066667     2354.800000   \n",
            "10                        Disney  2316.573784    2644.577297      163.277838   \n",
            "11                      GameStop  2428.258750    1973.615000       48.720000   \n",
            "12                General Motors  4006.970000     232.190000      154.280000   \n",
            "13                       Praxair  4219.045000      76.772500       83.230000   \n",
            "14                        Paccar   924.443704    2065.020741     1357.543704   \n",
            "15                 EOG Resources   505.502121    3498.964848      287.890909   \n",
            "16                        Mosaic  1581.290541     291.705135     2356.336216   \n",
            "17                   Xcel Energy  2456.078000    1376.662000       86.072000   \n",
            "18                        Boeing  2598.293000      69.657000     1232.616000   \n",
            "19                    BB&T Corp.  2951.228571     255.730000      653.660000   \n",
            "20                   Toys 'R' Us  1482.030000    2155.247500      185.745000   \n",
            "21                     Citigroup  2852.047632     551.697632      409.632632   \n",
            "22                         Cigna  3412.677097     237.988710      106.345806   \n",
            "23       Honeywell International  2535.395238     188.320000      817.026667   \n",
            "24                           TJX  2824.642424     193.151212      511.806061   \n",
            "25                           IBM   515.318649     258.303784     2723.272432   \n",
            "26                         Aflac  2556.223462     194.163846      745.166154   \n",
            "27             Molina Healthcare  2700.005833     559.877500      217.210000   \n",
            "28       American Airlines Group  2525.563750      38.386250      889.140000   \n",
            "29        Navistar International  2559.870000      98.618333      787.640000   \n",
            "30  Enterprise Products Partners  1489.515000    1722.700000      211.120000   \n",
            "31         R.R. Donnelley & Sons  2570.848000     110.852000      699.944000   \n",
            "32                 ManpowerGroup  3305.875000      41.195000       16.240000   \n",
            "33                Morgan Stanley  2641.706000     612.682000       77.952000   \n",
            "34                    Unum Group  2544.900000     611.683333      166.460000   \n",
            "35                           AES  1734.025000    1554.175000       12.180000   \n",
            "36                  Office Depot  3132.952308      80.661538       70.581538   \n",
            "37              Western Refining  2488.901111     658.842593      123.604444   \n",
            "38                        Ecolab  2435.645263     609.055263      213.470526   \n",
            "39                 Union Pacific  2619.750000     189.390000      444.280000   \n",
            "40                          eBay  2617.047083     134.195833      468.930000   \n",
            "41             J.P. Morgan Chase  2532.524800     474.866000      203.974400   \n",
            "42                      Qualcomm  2652.351333      70.905333      483.410667   \n",
            "43                     BlackRock  2916.463077     144.230513      139.705641   \n",
            "44                          USAA  1663.666000     353.528000     1151.416000   \n",
            "45           Principal Financial  2447.595000     348.285000      351.190000   \n",
            "46              Waste Management  2939.110000       0.000000      162.400000   \n",
            "47                Dollar General  2754.123571      79.715000      265.640000   \n",
            "48                    AutoNation  2486.233784     153.241351      430.579459   \n",
            "49            Marathon Petroleum  2534.781389     370.546944      162.625556   \n",
            "\n",
            "    total_spending  \n",
            "0     31583.256250  \n",
            "1     15550.247143  \n",
            "2      8648.070000  \n",
            "3      7474.320000  \n",
            "4      7318.200000  \n",
            "5      7242.052500  \n",
            "6      7235.796429  \n",
            "7      5908.298333  \n",
            "8      5627.677632  \n",
            "9      5555.520000  \n",
            "10     5124.428919  \n",
            "11     4450.593750  \n",
            "12     4393.440000  \n",
            "13     4379.047500  \n",
            "14     4347.008148  \n",
            "15     4292.357879  \n",
            "16     4229.331892  \n",
            "17     3918.812000  \n",
            "18     3900.566000  \n",
            "19     3860.618571  \n",
            "20     3823.022500  \n",
            "21     3813.377895  \n",
            "22     3757.011613  \n",
            "23     3540.741905  \n",
            "24     3529.599697  \n",
            "25     3496.894865  \n",
            "26     3495.553462  \n",
            "27     3477.093333  \n",
            "28     3453.090000  \n",
            "29     3446.128333  \n",
            "30     3423.335000  \n",
            "31     3381.644000  \n",
            "32     3363.310000  \n",
            "33     3332.340000  \n",
            "34     3323.043333  \n",
            "35     3300.380000  \n",
            "36     3284.195385  \n",
            "37     3271.348148  \n",
            "38     3258.171053  \n",
            "39     3253.420000  \n",
            "40     3220.172917  \n",
            "41     3211.365200  \n",
            "42     3206.667333  \n",
            "43     3200.399231  \n",
            "44     3168.610000  \n",
            "45     3147.070000  \n",
            "46     3101.510000  \n",
            "47     3099.478571  \n",
            "48     3070.054595  \n",
            "49     3067.953889  \n"
          ]
        }
      ]
    },
    {
      "cell_type": "markdown",
      "source": [
        "**Task 10: Efficiency in Data Insight.**\n",
        "\n",
        "By counting occurrences of channels associated with sales representatives and sorting them in descending order, this query rapidly reveals the most frequent engagement channels. Its brevity is a strategic choice, aimed at swiftly delivering actionable insights without unnecessary complexity.\n",
        "\n",
        "In a dynamic business landscape, time efficiency is a critical factor. Such succinct queries empower decision-makers to quickly access valuable information, facilitating informed decisions without cumbersome data analysis. This query, with its precision and brevity, exemplifies the power of streamlined data analysis, optimizing engagement strategies and driving results in a fast-paced environment."
      ],
      "metadata": {
        "id": "wyw-f3iUQ_n1"
      }
    },
    {
      "cell_type": "code",
      "source": [
        "query = '''\n",
        "select sale.name, web.channel, count(web.id) as event_occurred\n",
        "from web_events as web join accounts as acc\n",
        "on web.account_id = acc.id\n",
        "join sales_reps as sale\n",
        "on acc.sales_rep_id = sale.id\n",
        "group by sale.name, web.channel\n",
        "limit 50;\n",
        "'''\n",
        "\n",
        "result = execute_query(query)\n",
        "print(result)"
      ],
      "metadata": {
        "colab": {
          "base_uri": "https://localhost:8080/"
        },
        "id": "XsP-fzpVPOup",
        "outputId": "d30458b8-130f-41b5-f8d9-1ae5dccd5b01"
      },
      "execution_count": 45,
      "outputs": [
        {
          "output_type": "stream",
          "name": "stdout",
          "text": [
            "                 name   channel  event_occurred\n",
            "0     Akilah Drinkard   adwords               5\n",
            "1     Akilah Drinkard    banner               9\n",
            "2     Akilah Drinkard    direct              53\n",
            "3     Akilah Drinkard  facebook               9\n",
            "4     Akilah Drinkard   organic              15\n",
            "5     Akilah Drinkard   twitter               2\n",
            "6     Arica Stoltzfus   adwords               4\n",
            "7     Arica Stoltzfus    banner               6\n",
            "8     Arica Stoltzfus    direct             119\n",
            "9     Arica Stoltzfus  facebook               7\n",
            "10    Arica Stoltzfus   organic               5\n",
            "11      Ayesha Monica   adwords               9\n",
            "12      Ayesha Monica    banner               7\n",
            "13      Ayesha Monica    direct              70\n",
            "14      Ayesha Monica  facebook              15\n",
            "15      Ayesha Monica   organic              22\n",
            "16      Ayesha Monica   twitter               9\n",
            "17     Babette Soukup   adwords               7\n",
            "18     Babette Soukup    banner               8\n",
            "19     Babette Soukup    direct              59\n",
            "20     Babette Soukup  facebook               8\n",
            "21     Babette Soukup   organic               2\n",
            "22     Babette Soukup   twitter               3\n",
            "23       Brandie Riva   adwords              18\n",
            "24       Brandie Riva    banner               4\n",
            "25       Brandie Riva    direct             121\n",
            "26       Brandie Riva  facebook              16\n",
            "27       Brandie Riva   organic              15\n",
            "28       Brandie Riva   twitter               9\n",
            "29     Calvin Ollison   adwords              21\n",
            "30     Calvin Ollison    banner              10\n",
            "31     Calvin Ollison    direct             139\n",
            "32     Calvin Ollison  facebook              22\n",
            "33     Calvin Ollison   organic              21\n",
            "34     Calvin Ollison   twitter               8\n",
            "35        Cara Clarke   adwords               9\n",
            "36        Cara Clarke    banner               5\n",
            "37        Cara Clarke    direct              42\n",
            "38        Cara Clarke  facebook               3\n",
            "39        Cara Clarke   organic               8\n",
            "40        Cara Clarke   twitter               1\n",
            "41  Carletta Kosinski   adwords              11\n",
            "42  Carletta Kosinski    banner               6\n",
            "43  Carletta Kosinski    direct              54\n",
            "44  Carletta Kosinski  facebook              13\n",
            "45  Carletta Kosinski   organic              14\n",
            "46  Carletta Kosinski   twitter               4\n",
            "47    Charles Bidwell   adwords              18\n",
            "48    Charles Bidwell    banner              16\n",
            "49    Charles Bidwell    direct             159\n"
          ]
        }
      ]
    },
    {
      "cell_type": "markdown",
      "source": [
        "**Task 11: Swift Insights.**\n",
        "\n",
        "By extracting and summing annual sales totals and arranging them in ascending order, this query provides rapid access to key revenue trends. Its brevity is a deliberate choice, crafted for efficient data analysis that delivers quick, actionable insights.\n",
        "\n",
        "In the fast-paced business environment, time efficiency is a precious asset. Such succinct queries empower decision-makers to promptly uncover valuable information and make informed choices without getting lost in complexity. This query, with its precision and brevity, embodies the power of streamlined data analysis, shaping a more informed approach to business decision-making."
      ],
      "metadata": {
        "id": "B9bKfDEFSYa5"
      }
    },
    {
      "cell_type": "code",
      "source": [
        "query = '''\n",
        "select strftime('%Y', occurred_at) as year, sum(total_amt_usd) as total_rev\n",
        "from orders\n",
        "group by year\n",
        "order by year\n",
        "'''\n",
        "\n",
        "result = execute_query(query)\n",
        "print(result)"
      ],
      "metadata": {
        "colab": {
          "base_uri": "https://localhost:8080/"
        },
        "id": "XQ3OjiuxPOxQ",
        "outputId": "084587d9-69c7-46fe-fdf4-4bc5ca3a31a5"
      },
      "execution_count": 48,
      "outputs": [
        {
          "output_type": "stream",
          "name": "stdout",
          "text": [
            "   year   total_rev\n",
            "0  2013   177253.97\n",
            "1  2014  1676803.62\n",
            "2  2015  2659633.12\n",
            "3  2016  5891837.74\n",
            "4  2017    23424.03\n"
          ]
        }
      ]
    },
    {
      "cell_type": "markdown",
      "source": [
        "**Task 12: Yearly Revenue Insights.**\n",
        "\n",
        "By extracting and summing monthly sales totals for specific years and arranging the results by year, it swiftly reveals revenue patterns. Its brevity is strategic, enabling rapid data analysis for quick access to actionable insights.\n",
        "\n",
        "In the fast-paced business world, time is of the essence. Such succinct queries empower decision-makers to promptly uncover valuable information, streamlining the path to informed choices without unnecessary complexity. This query, with its precision and brevity, showcases the value of streamlined data analysis, facilitating a more agile approach to making business decisions."
      ],
      "metadata": {
        "id": "NtVn3lPiTFcy"
      }
    },
    {
      "cell_type": "code",
      "source": [
        "query = '''\n",
        "SELECT strftime('%Y', occurred_at) AS year, strftime('%m', occurred_at) AS month, SUM(total_amt_usd) AS total_rev\n",
        "FROM orders\n",
        "WHERE strftime('%Y', occurred_at) IN ('2013', '2017')\n",
        "GROUP BY month, year\n",
        "ORDER BY year, month;\n",
        "'''\n",
        "\n",
        "result = execute_query(query)\n",
        "print(result)"
      ],
      "metadata": {
        "colab": {
          "base_uri": "https://localhost:8080/"
        },
        "id": "Kja1MoVFTEsB",
        "outputId": "aa1e405f-8772-42d4-e45a-01ff986cbe50"
      },
      "execution_count": 53,
      "outputs": [
        {
          "output_type": "stream",
          "name": "stdout",
          "text": [
            "   year month  total_rev\n",
            "0  2013    12  177253.97\n",
            "1  2017    01   23424.03\n"
          ]
        }
      ]
    },
    {
      "cell_type": "markdown",
      "source": [
        "**Task 13: Unveiling Daily Sales.**\n",
        "\n",
        "This compact query serves a specific purpose. It extracts and sums daily sales totals for the year 2017, providing insights into daily revenue trends. Its brevity is intentional, designed for efficient data analysis that offers quick access to granular insights.\n",
        "\n",
        "In a fast-moving business landscape, time efficiency is invaluable. Such concise queries empower decision-makers to swiftly uncover detailed information and make informed choices without wading through unnecessary complexity. This query, with its precision and brevity, exemplifies the power of streamlined data analysis, revealing daily sales nuances and enabling agile decision-making."
      ],
      "metadata": {
        "id": "jp0pt7gyT4HM"
      }
    },
    {
      "cell_type": "code",
      "source": [
        "query = '''\n",
        "select strftime('%d', occurred_at) as day, strftime('%m', occurred_at) as month, strftime('%Y', occurred_at) as year, sum(total_amt_usd) as total_rev\n",
        "from orders\n",
        "where strftime('%Y', occurred_at) = '2017'\n",
        "group by day, month, year;\n",
        "'''\n",
        "\n",
        "result = execute_query(query)\n",
        "print(result)"
      ],
      "metadata": {
        "colab": {
          "base_uri": "https://localhost:8080/"
        },
        "id": "P7KO-d19POz2",
        "outputId": "e4dbd62f-cded-43c3-8cbc-ef99e869d54b"
      },
      "execution_count": 52,
      "outputs": [
        {
          "output_type": "stream",
          "name": "stdout",
          "text": [
            "  day month  year  total_rev\n",
            "0  01    01  2017   23424.03\n"
          ]
        }
      ]
    },
    {
      "cell_type": "markdown",
      "source": [
        "**Task 14: Unlocking New Year's Data.**\n",
        "\n",
        "This concise query has a clear purpose in the world of data analysis. It extracts and summarizes daily sales totals specifically for January 1st, offering insights into the start of each year. Its brevity is deliberate, designed to efficiently uncover granular insights without unnecessary complexity.\n",
        "\n",
        "In a dynamic business environment, time efficiency is essential. Such succinct queries empower decision-makers to rapidly access precise information, aiding informed choices without cumbersome data analysis. This query, with its precision and brevity, showcases the power of streamlined data analysis, uncovering specific details for agile decision-making in the fast-paced business landscape."
      ],
      "metadata": {
        "id": "q5wNrd9SUtt8"
      }
    },
    {
      "cell_type": "code",
      "source": [
        "query = '''\n",
        "select strftime('%d', occurred_at) as day, strftime('%m', occurred_at) as month, strftime('%Y', occurred_at) as year, sum(total_amt_usd) as total_rev\n",
        "from orders\n",
        "where strftime('%d', occurred_at) = '01' and strftime('%m', occurred_at) = '01'\n",
        "group by day, month, year\n",
        "order by year;\n",
        "'''\n",
        "\n",
        "result = execute_query(query)\n",
        "print(result)"
      ],
      "metadata": {
        "colab": {
          "base_uri": "https://localhost:8080/"
        },
        "id": "iRsORZ65PO2M",
        "outputId": "46679518-4cc0-4d4f-8317-1629c4de7ffc"
      },
      "execution_count": 54,
      "outputs": [
        {
          "output_type": "stream",
          "name": "stdout",
          "text": [
            "  day month  year  total_rev\n",
            "0  01    01  2014    7453.77\n",
            "1  01    01  2015    7747.95\n",
            "2  01    01  2016    6499.10\n",
            "3  01    01  2017   23424.03\n"
          ]
        }
      ]
    },
    {
      "cell_type": "markdown",
      "source": [
        "**Task 15: Walmart's Triumph.**\n",
        "\n",
        "This query efficiently extracts the highest monthly gloss sales for 'Walmart,' showcasing detailed insights into their performance. Its brevity is strategic, enabling rapid access to the most critical data without unnecessary complexity.\n",
        "\n",
        "In the fast-paced world of business, time efficiency is invaluable. Such succinct queries empower decision-makers to swiftly access precise information, aiding quick and informed choices without delving into unnecessary data layers. This query, with its precision and brevity, embodies the power of streamlined data analysis, helping businesses extract vital insights with minimal effort."
      ],
      "metadata": {
        "id": "3wLFPFMZVkF5"
      }
    },
    {
      "cell_type": "code",
      "source": [
        "query = '''\n",
        "select a.name, strftime('%m', occurred_at) as month, strftime('%Y', occurred_at) as year, sum(gloss_amt_usd) as total_gloss_rev\n",
        "from orders as o left join accounts as a\n",
        "on o.account_id = a.id\n",
        "where a.name = 'Walmart'\n",
        "group by a.name, year,month\n",
        "order by total_gloss_rev desc\n",
        "limit 1;\n",
        "'''\n",
        "\n",
        "result = execute_query(query)\n",
        "print(result)"
      ],
      "metadata": {
        "colab": {
          "base_uri": "https://localhost:8080/"
        },
        "id": "yeph3_C0PO4k",
        "outputId": "4f745e31-af8f-4a93-b72a-3440a2e69cef"
      },
      "execution_count": 57,
      "outputs": [
        {
          "output_type": "stream",
          "name": "stdout",
          "text": [
            "      name month  year  total_gloss_rev\n",
            "0  Walmart    10  2016          1071.07\n"
          ]
        }
      ]
    },
    {
      "cell_type": "code",
      "source": [],
      "metadata": {
        "id": "ry5Jm_hcPO6q"
      },
      "execution_count": null,
      "outputs": []
    }
  ]
}